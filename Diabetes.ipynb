{
  "nbformat": 4,
  "nbformat_minor": 0,
  "metadata": {
    "colab": {
      "provenance": [],
      "authorship_tag": "ABX9TyNI1Mz178mRe+wIFKRrVf3q",
      "include_colab_link": true
    },
    "kernelspec": {
      "name": "python3",
      "display_name": "Python 3"
    },
    "language_info": {
      "name": "python"
    }
  },
  "cells": [
    {
      "cell_type": "markdown",
      "metadata": {
        "id": "view-in-github",
        "colab_type": "text"
      },
      "source": [
        "<a href=\"https://colab.research.google.com/github/Chaitanya-Chaurasia/Pima-Indians-Diabetes-EDA/blob/main/Diabetes.ipynb\" target=\"_parent\"><img src=\"https://colab.research.google.com/assets/colab-badge.svg\" alt=\"Open In Colab\"/></a>"
      ]
    },
    {
      "cell_type": "markdown",
      "source": [
        "#**Exploratory Data Analysis of Pima Indians Diabetes**\n"
      ],
      "metadata": {
        "id": "H1rqxirdrTEL"
      }
    },
    {
      "cell_type": "markdown",
      "source": [
        "About Dataset - This dataset belongs to the National Institute of Diabetes and Digestive and Kidney Diseases. The objective of the dataset is to predict using various medical factors, whether a person has, or could have diabetes. Few constraints have been placed on this data set. For example- All patients here are female, age >= 21 and belong to the Pima Indian tribe.\n",
        "\n",
        "Dataset link- https://www.kaggle.com/datasets/uciml/pima-indians-diabetes-database"
      ],
      "metadata": {
        "id": "EBtJWFMjw4n2"
      }
    },
    {
      "cell_type": "markdown",
      "source": [
        "Zoom Link: \n",
        "https://asu.zoom.us/rec/share/fkvUcPnPGmNCItCuk3ReZmEprFUJUgaLe5PwiA3bVzlZvSESCsgUqTh1PCWYbGRV.GKcXmJZ9gW7iM287?startTime=1678559950000\n",
        "\n",
        "Passcode: 5^c67e!5"
      ],
      "metadata": {
        "id": "40JPI2jLKw4g"
      }
    },
    {
      "cell_type": "code",
      "source": [
        "!pwd"
      ],
      "metadata": {
        "colab": {
          "base_uri": "https://localhost:8080/"
        },
        "id": "_61izjClw30O",
        "outputId": "008cb15a-cbfc-4a7b-a24e-a9031834642a"
      },
      "execution_count": null,
      "outputs": [
        {
          "output_type": "stream",
          "name": "stdout",
          "text": [
            "/content\n"
          ]
        }
      ]
    },
    {
      "cell_type": "code",
      "source": [
        "!ls"
      ],
      "metadata": {
        "colab": {
          "base_uri": "https://localhost:8080/"
        },
        "id": "Cj0TpkWExeaU",
        "outputId": "018a623b-8306-4edf-a152-3728e6d6395a"
      },
      "execution_count": null,
      "outputs": [
        {
          "output_type": "stream",
          "name": "stdout",
          "text": [
            "diabetes.csv  sample_data\n"
          ]
        }
      ]
    },
    {
      "cell_type": "markdown",
      "source": [
        "Install the libraries- usually takes around 2-3 minutes."
      ],
      "metadata": {
        "id": "8NU70iGQpiZc"
      }
    },
    {
      "cell_type": "code",
      "source": [
        "!pip install pyspark\n",
        "!pip install findspark"
      ],
      "metadata": {
        "id": "A0VNcSEk0IoW"
      },
      "execution_count": null,
      "outputs": []
    },
    {
      "cell_type": "code",
      "source": [
        "import os\n",
        "import pyspark\n",
        "import findspark\n",
        "import pandas as pd\n",
        "import numpy as np\n",
        "import matplotlib.pyplot as plt"
      ],
      "metadata": {
        "id": "-cHpH77p0qjS"
      },
      "execution_count": null,
      "outputs": []
    },
    {
      "cell_type": "markdown",
      "source": [
        "### Use `apt` commands to install latest OpenJDK version on your system if not installed. Additionally use `!wget and !tar xf` commands to install pyspark if using local machine. Find the `spark-warehouse` dir on colab/working dir which uses Hive to manage SQL commands."
      ],
      "metadata": {
        "id": "OnzDg7N52STy"
      }
    },
    {
      "cell_type": "code",
      "source": [
        "!apt-get install -y openjdk-8-jdk-headless -qq > /dev/null      #install openjdk\n",
        "os.environ[\"JAVA_HOME\"] = \"/usr/lib/jvm/java-8-openjdk-amd64\""
      ],
      "metadata": {
        "id": "DroRH40819Jb"
      },
      "execution_count": null,
      "outputs": []
    },
    {
      "cell_type": "markdown",
      "source": [
        "Additionally, to import data hosted online, you can use !curl command.\n",
        "\n",
        "\n",
        "\n",
        "```\n",
        "!curl LOCATION > NEW_FILE.csv\n",
        "\n",
        "```\n",
        "\n"
      ],
      "metadata": {
        "id": "kzOBErz6CZlb"
      }
    },
    {
      "cell_type": "code",
      "source": [
        "findspark.init()\n",
        "\n",
        "# Optional - to find location of installed files\n",
        "# findspark.find()"
      ],
      "metadata": {
        "id": "zZlErnkZ0tyP"
      },
      "execution_count": null,
      "outputs": []
    },
    {
      "cell_type": "markdown",
      "source": [
        "## Checking Pre-reqs\n"
      ],
      "metadata": {
        "id": "Zs_5HKwNrXZh"
      }
    },
    {
      "cell_type": "code",
      "execution_count": null,
      "metadata": {
        "id": "UekXeKPCrP12"
      },
      "outputs": [],
      "source": [
        "from pyspark.sql import SparkSession"
      ]
    },
    {
      "cell_type": "markdown",
      "source": [
        "### Create a SparkSession object. Additionally, you can use the following code using SparkContext and SparkConf: \n",
        "```\n",
        "conf = SparkConf().setAppName('covid19')\n",
        "sc = SparkContext.getOrCreate(conf = conf)\n",
        "sc\n",
        "```"
      ],
      "metadata": {
        "id": "IW0nRjEw21TV"
      }
    },
    {
      "cell_type": "code",
      "source": [
        "spark = SparkSession.builder.appName(\"diabetes\").getOrCreate()\n",
        "display(spark)"
      ],
      "metadata": {
        "id": "VoIkdhKlrSf7",
        "colab": {
          "base_uri": "https://localhost:8080/",
          "height": 219
        },
        "outputId": "be042a04-360c-4ecf-ce54-95c8a6b56cbb"
      },
      "execution_count": null,
      "outputs": [
        {
          "output_type": "display_data",
          "data": {
            "text/plain": [
              "<pyspark.sql.session.SparkSession at 0x7fd8170c1550>"
            ],
            "text/html": [
              "\n",
              "            <div>\n",
              "                <p><b>SparkSession - in-memory</b></p>\n",
              "                \n",
              "        <div>\n",
              "            <p><b>SparkContext</b></p>\n",
              "\n",
              "            <p><a href=\"http://d8c67d05affd:4040\">Spark UI</a></p>\n",
              "\n",
              "            <dl>\n",
              "              <dt>Version</dt>\n",
              "                <dd><code>v3.3.2</code></dd>\n",
              "              <dt>Master</dt>\n",
              "                <dd><code>local[*]</code></dd>\n",
              "              <dt>AppName</dt>\n",
              "                <dd><code>diabetes</code></dd>\n",
              "            </dl>\n",
              "        </div>\n",
              "        \n",
              "            </div>\n",
              "        "
            ]
          },
          "metadata": {}
        }
      ]
    },
    {
      "cell_type": "markdown",
      "source": [
        "## Reading the csv file. Additionally, use pandas.read_csv and sqlContext to convert to sql table to view files.\n",
        "\n",
        "\n"
      ],
      "metadata": {
        "id": "OwV4aJ8g4giF"
      }
    },
    {
      "cell_type": "markdown",
      "source": [
        "\n",
        "\n",
        "```\n",
        "# .read.csv(FILE_NAME, inferSchema = bool, header = bool)\n",
        "```\n",
        "inferSchema = True will keep the orignal datatype of the column. When false, each entry is converted ot a String.\n",
        "\n",
        "header = True will provide the orignal column names and false will give default names c_0 .... c_n.\n",
        "\n"
      ],
      "metadata": {
        "id": "bc66ZD85511I"
      }
    },
    {
      "cell_type": "code",
      "source": [
        "df = spark.read.csv('diabetes.csv', header = True, inferSchema = True)"
      ],
      "metadata": {
        "id": "b5nxAilI3N9K"
      },
      "execution_count": null,
      "outputs": []
    },
    {
      "cell_type": "code",
      "source": [
        "df.show(5)"
      ],
      "metadata": {
        "id": "vjHJH_RU4B8A",
        "colab": {
          "base_uri": "https://localhost:8080/"
        },
        "outputId": "09047064-7c35-4f2a-83cf-1fc5d07e7ef4"
      },
      "execution_count": null,
      "outputs": [
        {
          "output_type": "stream",
          "name": "stdout",
          "text": [
            "+-----------+-------+-------------+-------------+-------+----+------------------------+---+-------+\n",
            "|Pregnancies|Glucose|BloodPressure|SkinThickness|Insulin| BMI|DiabetesPedigreeFunction|Age|Outcome|\n",
            "+-----------+-------+-------------+-------------+-------+----+------------------------+---+-------+\n",
            "|          6|    148|           72|           35|      0|33.6|                   0.627| 50|      1|\n",
            "|          1|     85|           66|           29|      0|26.6|                   0.351| 31|      0|\n",
            "|          8|    183|           64|            0|      0|23.3|                   0.672| 32|      1|\n",
            "|          1|     89|           66|           23|     94|28.1|                   0.167| 21|      0|\n",
            "|          0|    137|           40|           35|    168|43.1|                   2.288| 33|      1|\n",
            "+-----------+-------+-------------+-------------+-------+----+------------------------+---+-------+\n",
            "only showing top 5 rows\n",
            "\n"
          ]
        }
      ]
    },
    {
      "cell_type": "markdown",
      "source": [
        "## Using Pandas"
      ],
      "metadata": {
        "id": "Qvp3_ohTqUVe"
      }
    },
    {
      "cell_type": "code",
      "source": [
        "pdf = pd.read_csv('diabetes.csv')\n",
        "pdf.head(2)"
      ],
      "metadata": {
        "id": "IIMBihdU49Hq",
        "colab": {
          "base_uri": "https://localhost:8080/",
          "height": 112
        },
        "outputId": "2ed84a49-4d92-43bf-b7b8-b08a1b42ae32"
      },
      "execution_count": null,
      "outputs": [
        {
          "output_type": "execute_result",
          "data": {
            "text/plain": [
              "   Pregnancies  Glucose  BloodPressure  SkinThickness  Insulin   BMI  \\\n",
              "0            6      148             72             35        0  33.6   \n",
              "1            1       85             66             29        0  26.6   \n",
              "\n",
              "   DiabetesPedigreeFunction  Age  Outcome  \n",
              "0                     0.627   50        1  \n",
              "1                     0.351   31        0  "
            ],
            "text/html": [
              "\n",
              "  <div id=\"df-dfcf4cd0-91a5-48c3-927a-8a5dc3826f08\">\n",
              "    <div class=\"colab-df-container\">\n",
              "      <div>\n",
              "<style scoped>\n",
              "    .dataframe tbody tr th:only-of-type {\n",
              "        vertical-align: middle;\n",
              "    }\n",
              "\n",
              "    .dataframe tbody tr th {\n",
              "        vertical-align: top;\n",
              "    }\n",
              "\n",
              "    .dataframe thead th {\n",
              "        text-align: right;\n",
              "    }\n",
              "</style>\n",
              "<table border=\"1\" class=\"dataframe\">\n",
              "  <thead>\n",
              "    <tr style=\"text-align: right;\">\n",
              "      <th></th>\n",
              "      <th>Pregnancies</th>\n",
              "      <th>Glucose</th>\n",
              "      <th>BloodPressure</th>\n",
              "      <th>SkinThickness</th>\n",
              "      <th>Insulin</th>\n",
              "      <th>BMI</th>\n",
              "      <th>DiabetesPedigreeFunction</th>\n",
              "      <th>Age</th>\n",
              "      <th>Outcome</th>\n",
              "    </tr>\n",
              "  </thead>\n",
              "  <tbody>\n",
              "    <tr>\n",
              "      <th>0</th>\n",
              "      <td>6</td>\n",
              "      <td>148</td>\n",
              "      <td>72</td>\n",
              "      <td>35</td>\n",
              "      <td>0</td>\n",
              "      <td>33.6</td>\n",
              "      <td>0.627</td>\n",
              "      <td>50</td>\n",
              "      <td>1</td>\n",
              "    </tr>\n",
              "    <tr>\n",
              "      <th>1</th>\n",
              "      <td>1</td>\n",
              "      <td>85</td>\n",
              "      <td>66</td>\n",
              "      <td>29</td>\n",
              "      <td>0</td>\n",
              "      <td>26.6</td>\n",
              "      <td>0.351</td>\n",
              "      <td>31</td>\n",
              "      <td>0</td>\n",
              "    </tr>\n",
              "  </tbody>\n",
              "</table>\n",
              "</div>\n",
              "      <button class=\"colab-df-convert\" onclick=\"convertToInteractive('df-dfcf4cd0-91a5-48c3-927a-8a5dc3826f08')\"\n",
              "              title=\"Convert this dataframe to an interactive table.\"\n",
              "              style=\"display:none;\">\n",
              "        \n",
              "  <svg xmlns=\"http://www.w3.org/2000/svg\" height=\"24px\"viewBox=\"0 0 24 24\"\n",
              "       width=\"24px\">\n",
              "    <path d=\"M0 0h24v24H0V0z\" fill=\"none\"/>\n",
              "    <path d=\"M18.56 5.44l.94 2.06.94-2.06 2.06-.94-2.06-.94-.94-2.06-.94 2.06-2.06.94zm-11 1L8.5 8.5l.94-2.06 2.06-.94-2.06-.94L8.5 2.5l-.94 2.06-2.06.94zm10 10l.94 2.06.94-2.06 2.06-.94-2.06-.94-.94-2.06-.94 2.06-2.06.94z\"/><path d=\"M17.41 7.96l-1.37-1.37c-.4-.4-.92-.59-1.43-.59-.52 0-1.04.2-1.43.59L10.3 9.45l-7.72 7.72c-.78.78-.78 2.05 0 2.83L4 21.41c.39.39.9.59 1.41.59.51 0 1.02-.2 1.41-.59l7.78-7.78 2.81-2.81c.8-.78.8-2.07 0-2.86zM5.41 20L4 18.59l7.72-7.72 1.47 1.35L5.41 20z\"/>\n",
              "  </svg>\n",
              "      </button>\n",
              "      \n",
              "  <style>\n",
              "    .colab-df-container {\n",
              "      display:flex;\n",
              "      flex-wrap:wrap;\n",
              "      gap: 12px;\n",
              "    }\n",
              "\n",
              "    .colab-df-convert {\n",
              "      background-color: #E8F0FE;\n",
              "      border: none;\n",
              "      border-radius: 50%;\n",
              "      cursor: pointer;\n",
              "      display: none;\n",
              "      fill: #1967D2;\n",
              "      height: 32px;\n",
              "      padding: 0 0 0 0;\n",
              "      width: 32px;\n",
              "    }\n",
              "\n",
              "    .colab-df-convert:hover {\n",
              "      background-color: #E2EBFA;\n",
              "      box-shadow: 0px 1px 2px rgba(60, 64, 67, 0.3), 0px 1px 3px 1px rgba(60, 64, 67, 0.15);\n",
              "      fill: #174EA6;\n",
              "    }\n",
              "\n",
              "    [theme=dark] .colab-df-convert {\n",
              "      background-color: #3B4455;\n",
              "      fill: #D2E3FC;\n",
              "    }\n",
              "\n",
              "    [theme=dark] .colab-df-convert:hover {\n",
              "      background-color: #434B5C;\n",
              "      box-shadow: 0px 1px 3px 1px rgba(0, 0, 0, 0.15);\n",
              "      filter: drop-shadow(0px 1px 2px rgba(0, 0, 0, 0.3));\n",
              "      fill: #FFFFFF;\n",
              "    }\n",
              "  </style>\n",
              "\n",
              "      <script>\n",
              "        const buttonEl =\n",
              "          document.querySelector('#df-dfcf4cd0-91a5-48c3-927a-8a5dc3826f08 button.colab-df-convert');\n",
              "        buttonEl.style.display =\n",
              "          google.colab.kernel.accessAllowed ? 'block' : 'none';\n",
              "\n",
              "        async function convertToInteractive(key) {\n",
              "          const element = document.querySelector('#df-dfcf4cd0-91a5-48c3-927a-8a5dc3826f08');\n",
              "          const dataTable =\n",
              "            await google.colab.kernel.invokeFunction('convertToInteractive',\n",
              "                                                     [key], {});\n",
              "          if (!dataTable) return;\n",
              "\n",
              "          const docLinkHtml = 'Like what you see? Visit the ' +\n",
              "            '<a target=\"_blank\" href=https://colab.research.google.com/notebooks/data_table.ipynb>data table notebook</a>'\n",
              "            + ' to learn more about interactive tables.';\n",
              "          element.innerHTML = '';\n",
              "          dataTable['output_type'] = 'display_data';\n",
              "          await google.colab.output.renderOutput(dataTable, element);\n",
              "          const docLink = document.createElement('div');\n",
              "          docLink.innerHTML = docLinkHtml;\n",
              "          element.appendChild(docLink);\n",
              "        }\n",
              "      </script>\n",
              "    </div>\n",
              "  </div>\n",
              "  "
            ]
          },
          "metadata": {},
          "execution_count": 104
        }
      ]
    },
    {
      "cell_type": "markdown",
      "source": [
        "## Using SQLContext"
      ],
      "metadata": {
        "id": "E7wd7TQKqYaZ"
      }
    },
    {
      "cell_type": "code",
      "source": [
        "from pyspark import SQLContext"
      ],
      "metadata": {
        "id": "BZW_By3vqHRy"
      },
      "execution_count": null,
      "outputs": []
    },
    {
      "cell_type": "code",
      "source": [
        "sql = SQLContext(spark)\n",
        "df_fromSQL = sql.createDataFrame(pdf)\n",
        "df_fromSQL.show()"
      ],
      "metadata": {
        "id": "J0OV1OZS5bJW"
      },
      "execution_count": null,
      "outputs": []
    },
    {
      "cell_type": "markdown",
      "source": [
        "## Basic Information of the file"
      ],
      "metadata": {
        "id": "g2UON9Nq6_9h"
      }
    },
    {
      "cell_type": "code",
      "source": [
        "print(f\"There are {df.count()} rows and {len(df.columns)} in the dataset\")"
      ],
      "metadata": {
        "colab": {
          "base_uri": "https://localhost:8080/"
        },
        "id": "wRvyR3bJ4B2O",
        "outputId": "9ee555c8-942e-455d-8071-783644f4d947"
      },
      "execution_count": null,
      "outputs": [
        {
          "output_type": "stream",
          "name": "stdout",
          "text": [
            "There are 768 rows and 9 in the dataset\n"
          ]
        }
      ]
    },
    {
      "cell_type": "code",
      "source": [
        "df.printSchema()"
      ],
      "metadata": {
        "id": "WdbYACu64VEw"
      },
      "execution_count": null,
      "outputs": []
    },
    {
      "cell_type": "code",
      "source": [
        "df.toPandas().describe().columns"
      ],
      "metadata": {
        "colab": {
          "base_uri": "https://localhost:8080/"
        },
        "id": "tuS6MUIv6YGR",
        "outputId": "33df9a05-bf48-43f6-afa7-b2453014d891"
      },
      "execution_count": null,
      "outputs": [
        {
          "output_type": "execute_result",
          "data": {
            "text/plain": [
              "Index(['Pregnancies', 'Glucose', 'BloodPressure', 'SkinThickness', 'Insulin',\n",
              "       'BMI', 'DiabetesPedigreeFunction', 'Age', 'Outcome'],\n",
              "      dtype='object')"
            ]
          },
          "metadata": {},
          "execution_count": 109
        }
      ]
    },
    {
      "cell_type": "markdown",
      "source": [
        "## Get count of each data in each column. We use list classification to make it easier"
      ],
      "metadata": {
        "id": "fMOaKdcz8OY_"
      }
    },
    {
      "cell_type": "code",
      "source": [
        "list = [i for i in pdf.columns]"
      ],
      "metadata": {
        "id": "XqVACRd67ZzK"
      },
      "execution_count": null,
      "outputs": []
    },
    {
      "cell_type": "code",
      "source": [
        "for i in list:\n",
        "  df.groupBy(i).count().show()"
      ],
      "metadata": {
        "id": "AqbicYwW6-ca"
      },
      "execution_count": null,
      "outputs": []
    },
    {
      "cell_type": "markdown",
      "source": [
        "## Plotting our first visualisation"
      ],
      "metadata": {
        "id": "YZYvPfIE8aiD"
      }
    },
    {
      "cell_type": "markdown",
      "source": [
        "### Below, we will be plotting histograms that show the count of each distict element visually"
      ],
      "metadata": {
        "id": "9KHMBNbTFhUu"
      }
    },
    {
      "cell_type": "code",
      "source": [
        "df.toPandas()['Pregnancies']"
      ],
      "metadata": {
        "id": "6ZrplyiOAPr8"
      },
      "execution_count": null,
      "outputs": []
    },
    {
      "cell_type": "code",
      "source": [
        "fig = plt.figure(figsize = (20,10))\n",
        "\n",
        "title = fig.suptitle(\"Depiction of all Features (Columns/Independent Variables)\", fontsize = 30, verticalalignment = 'center')\n",
        "\n",
        "for col, num in zip(pdf.columns, range(1,len(pdf.columns) + 1)):\n",
        "  \n",
        "  ax = fig.add_subplot(3, 4, num)\n",
        "  ax.hist(df.toPandas()[col])\n",
        "  plt.grid(False)\n",
        "  plt.xticks(fontsize = 15)\n",
        "  plt.yticks(fontsize = 15)\n",
        "  plt.title(col.upper(), fontsize = 20)\n",
        "\n",
        "plt.tight_layout()\n",
        "title.set_y(0.95)\n",
        "fig.subplots_adjust(top = 0.85, hspace = 0.4)\n",
        "plt.show()"
      ],
      "metadata": {
        "colab": {
          "base_uri": "https://localhost:8080/",
          "height": 711
        },
        "id": "HrspxKdt8ctf",
        "outputId": "5c61f664-bb54-4dfe-95cf-869058846634"
      },
      "execution_count": null,
      "outputs": [
        {
          "output_type": "display_data",
          "data": {
            "text/plain": [
              "<Figure size 1440x720 with 9 Axes>"
            ],
            "image/png": "[encoded data removed]"
          },
          "metadata": {
            "needs_background": "light"
          }
        }
      ]
    },
    {
      "cell_type": "markdown",
      "source": [
        "### Checking for missing data. If found, use *sklearn.impute.SimpleImputer* to fix it by removing or strategizing it."
      ],
      "metadata": {
        "id": "YOQxHnd1_Pib"
      }
    },
    {
      "cell_type": "code",
      "source": [
        "from pyspark.sql.functions import *\n",
        "\n",
        "df.select([count(when(isnan(i), i)).alias(i) for i in df.columns]).toPandas()\n",
        "\n",
        "# use .alias(i) for aesthetic purposes. Not mandatory."
      ],
      "metadata": {
        "id": "1cbRNXlh_RDS"
      },
      "execution_count": null,
      "outputs": []
    },
    {
      "cell_type": "markdown",
      "source": [
        "# User Defined Function (UDF)"
      ],
      "metadata": {
        "id": "REFMBR1RAuSq"
      }
    },
    {
      "cell_type": "markdown",
      "source": [
        "### PySpark allows us to define user-defined functions to automate displaying and modification of data through the UDF class"
      ],
      "metadata": {
        "id": "Bd7ocZHtBN38"
      }
    },
    {
      "cell_type": "code",
      "source": [
        "from pyspark.sql.functions import udf\n",
        "from pyspark.sql.types import StringType"
      ],
      "metadata": {
        "id": "g6pX2vSABZ3p"
      },
      "execution_count": null,
      "outputs": []
    },
    {
      "cell_type": "markdown",
      "source": [
        "### In our table, we will make a column 'HasDiabetes'that will output yes or no instead of a binary output. We need to convert this to a String result Y/N which we can do through StringType() class. We will also drop the Outcome column\n",
        "```\n",
        "# udf(lambda: , DATA_TYPE)\n",
        "```"
      ],
      "metadata": {
        "id": "vegeIq_wBzAw"
      }
    },
    {
      "cell_type": "code",
      "source": [
        "lastCol = udf(lambda x: \"Y\" if x == 1 else \"N\", StringType())"
      ],
      "metadata": {
        "id": "ZotTaiGVBrDU"
      },
      "execution_count": null,
      "outputs": []
    },
    {
      "cell_type": "code",
      "source": [
        "df = df.withColumn(\"HasDiabetes\", lastCol('Outcome')).drop(\"Outcome\")"
      ],
      "metadata": {
        "id": "AB2M-8u8BiXn"
      },
      "execution_count": null,
      "outputs": []
    },
    {
      "cell_type": "code",
      "source": [
        "df.show(10)"
      ],
      "metadata": {
        "id": "-7wRjRbCEA6y"
      },
      "execution_count": null,
      "outputs": []
    },
    {
      "cell_type": "code",
      "source": [
        "df"
      ],
      "metadata": {
        "colab": {
          "base_uri": "https://localhost:8080/"
        },
        "id": "hP0mWUhiGb6s",
        "outputId": "1e2c4b79-76b4-405a-8113-3b95b8da9ab1"
      },
      "execution_count": null,
      "outputs": [
        {
          "output_type": "execute_result",
          "data": {
            "text/plain": [
              "DataFrame[Pregnancies: int, Glucose: int, BloodPressure: int, SkinThickness: int, Insulin: int, BMI: double, DiabetesPedigreeFunction: double, Age: int, HasDiabetes: string]"
            ]
          },
          "metadata": {},
          "execution_count": 123
        }
      ]
    },
    {
      "cell_type": "markdown",
      "source": [
        "###Now, lets try to categorize age instead of using numbers by adding a new column using *udf* method"
      ],
      "metadata": {
        "id": "JOLRx9bsF-_a"
      }
    },
    {
      "cell_type": "code",
      "source": [
        "def age_categorize(age):\n",
        "  if (age <= 25):\n",
        "    return \"Under 25\"\n",
        "  elif (age >= 25 and age <= 35):\n",
        "    return \"Between 25 and 35\"\n",
        "  elif (age > 35 and age < 50):\n",
        "    return \"Between 36 and 50\"\n",
        "  elif (age >= 50):\n",
        "    return \"Over 50\"\n",
        "  else :\n",
        "    return \"NA\""
      ],
      "metadata": {
        "id": "3y686UHoGPYH"
      },
      "execution_count": null,
      "outputs": []
    },
    {
      "cell_type": "code",
      "source": [
        "ageCol = udf(age_categorize)\n",
        "df = df.withColumn('Categorized Age', ageCol('Age')).drop('Age')"
      ],
      "metadata": {
        "id": "xK2dgtg8HBry"
      },
      "execution_count": null,
      "outputs": []
    },
    {
      "cell_type": "code",
      "source": [
        "df.show(10)"
      ],
      "metadata": {
        "colab": {
          "base_uri": "https://localhost:8080/"
        },
        "id": "gj5D-TTbHaqe",
        "outputId": "43638aeb-1e20-4e7e-d05f-507f43091032"
      },
      "execution_count": null,
      "outputs": [
        {
          "output_type": "stream",
          "name": "stdout",
          "text": [
            "+-----------+-------+-------------+-------------+-------+----+------------------------+-----------+-----------------+\n",
            "|Pregnancies|Glucose|BloodPressure|SkinThickness|Insulin| BMI|DiabetesPedigreeFunction|HasDiabetes|  Categorized Age|\n",
            "+-----------+-------+-------------+-------------+-------+----+------------------------+-----------+-----------------+\n",
            "|          6|    148|           72|           35|      0|33.6|                   0.627|          Y|          Over 50|\n",
            "|          1|     85|           66|           29|      0|26.6|                   0.351|          N|Between 25 and 35|\n",
            "|          8|    183|           64|            0|      0|23.3|                   0.672|          Y|Between 25 and 35|\n",
            "|          1|     89|           66|           23|     94|28.1|                   0.167|          N|         Under 25|\n",
            "|          0|    137|           40|           35|    168|43.1|                   2.288|          Y|Between 25 and 35|\n",
            "|          5|    116|           74|            0|      0|25.6|                   0.201|          N|Between 25 and 35|\n",
            "|          3|     78|           50|           32|     88|31.0|                   0.248|          Y|Between 25 and 35|\n",
            "|         10|    115|            0|            0|      0|35.3|                   0.134|          N|Between 25 and 35|\n",
            "|          2|    197|           70|           45|    543|30.5|                   0.158|          Y|          Over 50|\n",
            "|          8|    125|           96|            0|      0| 0.0|                   0.232|          Y|          Over 50|\n",
            "+-----------+-------+-------------+-------------+-------+----+------------------------+-----------+-----------------+\n",
            "only showing top 10 rows\n",
            "\n"
          ]
        }
      ]
    },
    {
      "cell_type": "markdown",
      "source": [
        "## Creating a User-defined method that displays stats like AVG, MAX, MIN and COUNT of a specific features WHERE GROUPBY(age)"
      ],
      "metadata": {
        "id": "tvAB46J3N0pz"
      }
    },
    {
      "cell_type": "code",
      "source": [
        "from pyspark.sql import functions as F\n",
        "from pyspark.sql import Window\n",
        "from pyspark.sql.functions import *"
      ],
      "metadata": {
        "id": "dyASq4R9JqXp"
      },
      "execution_count": null,
      "outputs": []
    },
    {
      "cell_type": "code",
      "source": [
        "def groupBy_age_onAnyFeature(window, feature):\n",
        "\n",
        "  return df.select(['Categorized Age', feature]).groupBy('Categorized Age').agg(\n",
        "      F.count(feature).alias('UserCount'),\n",
        "      round(F.mean(feature),2).alias(f'{feature}_AVG'),\n",
        "      F.min(feature).alias(f'{feature}_MIN'),\n",
        "      F.max(feature).alias(f'{feature}_MAX'),\n",
        "  ).withColumn('total', sum(col('UserCount')).over(window)).withColumn('Percent', round(col('UserCount')*100 / col('total'), 2)).drop(col('total')).sort(asc('Percent'))\n"
      ],
      "metadata": {
        "id": "5vn-_m9IJ4yl"
      },
      "execution_count": null,
      "outputs": []
    },
    {
      "cell_type": "code",
      "source": [
        "window = Window.rowsBetween(Window.unboundedPreceding, Window.unboundedFollowing)"
      ],
      "metadata": {
        "id": "E__FN3EwOINl"
      },
      "execution_count": null,
      "outputs": []
    },
    {
      "cell_type": "code",
      "source": [
        "groupBy_age_onAnyFeature(window, df.columns[0]).show()"
      ],
      "metadata": {
        "id": "cCe3oFmoJ_KV",
        "colab": {
          "base_uri": "https://localhost:8080/"
        },
        "outputId": "cc959c4f-7407-43c0-aabd-845c0f4f5efe"
      },
      "execution_count": null,
      "outputs": [
        {
          "output_type": "stream",
          "name": "stdout",
          "text": [
            "+-----------------+---------+---------------+---------------+---------------+-------+\n",
            "|  Categorized Age|UserCount|Pregnancies_AVG|Pregnancies_MIN|Pregnancies_MAX|Percent|\n",
            "+-----------------+---------+---------------+---------------+---------------+-------+\n",
            "|          Over 50|       89|           6.03|              0|             13|  11.59|\n",
            "|Between 36 and 50|      181|           6.71|              0|             17|  23.57|\n",
            "|Between 25 and 35|      231|           3.42|              0|             11|  30.08|\n",
            "|         Under 25|      267|           1.54|              0|              8|  34.77|\n",
            "+-----------------+---------+---------------+---------------+---------------+-------+\n",
            "\n"
          ]
        }
      ]
    },
    {
      "cell_type": "code",
      "source": [
        "groupBy_age_onAnyFeature(window, 'BMI').show()"
      ],
      "metadata": {
        "id": "clSqQ7h3K8vd",
        "colab": {
          "base_uri": "https://localhost:8080/"
        },
        "outputId": "a6c2ccd0-b462-43b7-8075-7e72472a959b"
      },
      "execution_count": null,
      "outputs": [
        {
          "output_type": "stream",
          "name": "stdout",
          "text": [
            "+-----------------+---------+-------+-------+-------+-------+\n",
            "|  Categorized Age|UserCount|BMI_AVG|BMI_MIN|BMI_MAX|Percent|\n",
            "+-----------------+---------+-------+-------+-------+-------+\n",
            "|          Over 50|       89|   30.3|    0.0|   46.5|  11.59|\n",
            "|Between 36 and 50|      181|   34.0|   20.8|   52.3|  23.57|\n",
            "|Between 25 and 35|      231|  32.96|    0.0|   67.1|  30.08|\n",
            "|         Under 25|      267|  30.36|    0.0|   59.4|  34.77|\n",
            "+-----------------+---------+-------+-------+-------+-------+\n",
            "\n"
          ]
        }
      ]
    },
    {
      "cell_type": "code",
      "source": [
        "groupBy_age_onAnyFeature(window, 'Insulin').show()"
      ],
      "metadata": {
        "id": "nqG-oyvKOMuF",
        "colab": {
          "base_uri": "https://localhost:8080/"
        },
        "outputId": "3adf5b92-7324-4ec6-cc49-005df1a98f77"
      },
      "execution_count": null,
      "outputs": [
        {
          "output_type": "stream",
          "name": "stdout",
          "text": [
            "+-----------------+---------+-----------+-----------+-----------+-------+\n",
            "|  Categorized Age|UserCount|Insulin_AVG|Insulin_MIN|Insulin_MAX|Percent|\n",
            "+-----------------+---------+-----------+-----------+-----------+-------+\n",
            "|          Over 50|       89|      84.12|          0|        846|  11.59|\n",
            "|Between 36 and 50|      181|      61.46|          0|        495|  23.57|\n",
            "|Between 25 and 35|      231|      87.27|          0|        744|  30.08|\n",
            "|         Under 25|      267|      84.33|          0|        680|  34.77|\n",
            "+-----------------+---------+-----------+-----------+-----------+-------+\n",
            "\n"
          ]
        }
      ]
    },
    {
      "cell_type": "code",
      "source": [
        "groupBy_age_onAnyFeature(window, 'SkinThickness').show()"
      ],
      "metadata": {
        "id": "7q-OhqIYOPka",
        "colab": {
          "base_uri": "https://localhost:8080/"
        },
        "outputId": "3648a98a-6f91-484a-c106-e9bd53688398"
      },
      "execution_count": null,
      "outputs": [
        {
          "output_type": "stream",
          "name": "stdout",
          "text": [
            "+-----------------+---------+-----------------+-----------------+-----------------+-------+\n",
            "|  Categorized Age|UserCount|SkinThickness_AVG|SkinThickness_MIN|SkinThickness_MAX|Percent|\n",
            "+-----------------+---------+-----------------+-----------------+-----------------+-------+\n",
            "|          Over 50|       89|            15.67|                0|               99|  11.59|\n",
            "|Between 36 and 50|      181|            20.22|                0|               54|  23.57|\n",
            "|Between 25 and 35|      231|            20.91|                0|               60|  30.08|\n",
            "|         Under 25|      267|            22.05|                0|               63|  34.77|\n",
            "+-----------------+---------+-----------------+-----------------+-----------------+-------+\n",
            "\n"
          ]
        }
      ]
    },
    {
      "cell_type": "markdown",
      "source": [
        "## Plotting all these results in form of a pie-chart"
      ],
      "metadata": {
        "id": "DEFtmfTdGZPF"
      }
    },
    {
      "cell_type": "code",
      "source": [
        "df.columns[:6]"
      ],
      "metadata": {
        "colab": {
          "base_uri": "https://localhost:8080/"
        },
        "id": "HZactFH1Jm3K",
        "outputId": "97d410b4-6430-42df-f122-c7e80b7d6629"
      },
      "execution_count": null,
      "outputs": [
        {
          "output_type": "execute_result",
          "data": {
            "text/plain": [
              "['Pregnancies', 'Glucose', 'BloodPressure', 'SkinThickness', 'Insulin', 'BMI']"
            ]
          },
          "metadata": {},
          "execution_count": 136
        }
      ]
    },
    {
      "cell_type": "code",
      "source": [
        "np.array(groupBy_age_onAnyFeature(window, 'GLUCOSE').select('Categorized Age').distinct().toPandas())"
      ],
      "metadata": {
        "id": "Y7asYHoDM1pI",
        "outputId": "3b6ef7c9-d3ca-4736-c0db-3396d92fc621",
        "colab": {
          "base_uri": "https://localhost:8080/"
        }
      },
      "execution_count": null,
      "outputs": [
        {
          "output_type": "execute_result",
          "data": {
            "text/plain": [
              "array([['Over 50'],\n",
              "       ['Between 36 and 50'],\n",
              "       ['Between 25 and 35'],\n",
              "       ['Under 25']], dtype=object)"
            ]
          },
          "metadata": {},
          "execution_count": 137
        }
      ]
    },
    {
      "cell_type": "markdown",
      "source": [
        "Since matplotlib.pyplot expects a 1D array as its argument, we will use np.flatten() to convert it into a 1D array"
      ],
      "metadata": {
        "id": "qiOcwpTxMn0h"
      }
    },
    {
      "cell_type": "code",
      "source": [
        "np.array(groupBy_age_onAnyFeature(window, 'GLUCOSE').select('Categorized Age').distinct().toPandas()).flatten()"
      ],
      "metadata": {
        "colab": {
          "base_uri": "https://localhost:8080/"
        },
        "id": "Sh_p0OZsIXsd",
        "outputId": "6ed95f20-438b-4b5c-d7fc-a4a634bb6f9c"
      },
      "execution_count": null,
      "outputs": [
        {
          "output_type": "execute_result",
          "data": {
            "text/plain": [
              "array(['Over 50', 'Between 36 and 50', 'Between 25 and 35', 'Under 25'],\n",
              "      dtype=object)"
            ]
          },
          "metadata": {},
          "execution_count": 138
        }
      ]
    },
    {
      "cell_type": "code",
      "source": [
        "new_fig = plt.figure(figsize = (20, 10))\n",
        "new_title = new_fig.suptitle('Percentage of Women grouped-by Age', fontsize = 40, verticalalignment = \"center\")\n",
        "\n",
        "colors = ['gold','yellowgreen','lightcoral', 'blue','lightskyblue','green','red']\n",
        "explode = (0.0, 0.1, 0.0, 0.0)\n",
        "\n",
        "for i, num in zip(df.columns[:6], range(1, 7)):\n",
        "\n",
        "  ax1 = new_fig.add_subplot(3, 4, num)\n",
        "  labels = np.array(groupBy_age_onAnyFeature(window, i).select('Categorized Age').distinct().toPandas()).flatten()\n",
        "  sizes = np.array(groupBy_age_onAnyFeature(window, i).select('Percent').distinct().toPandas()).flatten()\n",
        "  plt.title(i, fontsize = 20)\n",
        "  ax1.pie(sizes, explode = explode, labels = labels, colors = colors, autopct = '%1.1f%%', shadow = True, startangle = 140)\n",
        "  plt.axis('equal')\n",
        "\n",
        "plt.tight_layout()\n",
        "new_title.set_y(0.95)\n",
        "new_fig.subplots_adjust(top = 0.85, hspace = 0.4)\n",
        "plt.show()"
      ],
      "metadata": {
        "colab": {
          "base_uri": "https://localhost:8080/",
          "height": 503
        },
        "id": "46GQYAwZGh-M",
        "outputId": "39c507e8-9ad0-4e96-b8aa-e19335ce57fd"
      },
      "execution_count": null,
      "outputs": [
        {
          "output_type": "display_data",
          "data": {
            "text/plain": [
              "<Figure size 1440x720 with 6 Axes>"
            ],
            "image/png": "[encoded data removed]"
          },
          "metadata": {}
        }
      ]
    },
    {
      "cell_type": "markdown",
      "source": [
        "# Linear Relation - Pearson Correlation"
      ],
      "metadata": {
        "id": "b0KmAaMmY6JJ"
      }
    },
    {
      "cell_type": "markdown",
      "source": [
        "Pearson correlation can be used to weigh each feature against each other to find the most important features, later to be used in our ML model."
      ],
      "metadata": {
        "id": "rEn86wrmZYJo"
      }
    },
    {
      "cell_type": "code",
      "source": [
        "print(df.dtypes[0][0] + \" \" + df.dtypes[0][1])"
      ],
      "metadata": {
        "colab": {
          "base_uri": "https://localhost:8080/"
        },
        "id": "aDfz6fteZki2",
        "outputId": "0502af89-5aa0-4397-9480-3f157222882d"
      },
      "execution_count": null,
      "outputs": [
        {
          "output_type": "stream",
          "name": "stdout",
          "text": [
            "Pregnancies int\n"
          ]
        }
      ]
    },
    {
      "cell_type": "code",
      "source": [
        "num_features = [i[0] for i in df.dtypes if i[1] != 'string']\n",
        "num_features_df = df.select(num_features)\n",
        "num_features_df.toPandas().head()"
      ],
      "metadata": {
        "colab": {
          "base_uri": "https://localhost:8080/",
          "height": 206
        },
        "id": "pi-lcZrjY6T-",
        "outputId": "6d54cd63-d337-4f4a-b2b8-a15630e666ee"
      },
      "execution_count": null,
      "outputs": [
        {
          "output_type": "execute_result",
          "data": {
            "text/plain": [
              "   Pregnancies  Glucose  BloodPressure  SkinThickness  Insulin   BMI  \\\n",
              "0            6      148             72             35        0  33.6   \n",
              "1            1       85             66             29        0  26.6   \n",
              "2            8      183             64              0        0  23.3   \n",
              "3            1       89             66             23       94  28.1   \n",
              "4            0      137             40             35      168  43.1   \n",
              "\n",
              "   DiabetesPedigreeFunction  \n",
              "0                     0.627  \n",
              "1                     0.351  \n",
              "2                     0.672  \n",
              "3                     0.167  \n",
              "4                     2.288  "
            ],
            "text/html": [
              "\n",
              "  <div id=\"df-cfae42a3-15a2-44e0-940d-940b706f5f0e\">\n",
              "    <div class=\"colab-df-container\">\n",
              "      <div>\n",
              "<style scoped>\n",
              "    .dataframe tbody tr th:only-of-type {\n",
              "        vertical-align: middle;\n",
              "    }\n",
              "\n",
              "    .dataframe tbody tr th {\n",
              "        vertical-align: top;\n",
              "    }\n",
              "\n",
              "    .dataframe thead th {\n",
              "        text-align: right;\n",
              "    }\n",
              "</style>\n",
              "<table border=\"1\" class=\"dataframe\">\n",
              "  <thead>\n",
              "    <tr style=\"text-align: right;\">\n",
              "      <th></th>\n",
              "      <th>Pregnancies</th>\n",
              "      <th>Glucose</th>\n",
              "      <th>BloodPressure</th>\n",
              "      <th>SkinThickness</th>\n",
              "      <th>Insulin</th>\n",
              "      <th>BMI</th>\n",
              "      <th>DiabetesPedigreeFunction</th>\n",
              "    </tr>\n",
              "  </thead>\n",
              "  <tbody>\n",
              "    <tr>\n",
              "      <th>0</th>\n",
              "      <td>6</td>\n",
              "      <td>148</td>\n",
              "      <td>72</td>\n",
              "      <td>35</td>\n",
              "      <td>0</td>\n",
              "      <td>33.6</td>\n",
              "      <td>0.627</td>\n",
              "    </tr>\n",
              "    <tr>\n",
              "      <th>1</th>\n",
              "      <td>1</td>\n",
              "      <td>85</td>\n",
              "      <td>66</td>\n",
              "      <td>29</td>\n",
              "      <td>0</td>\n",
              "      <td>26.6</td>\n",
              "      <td>0.351</td>\n",
              "    </tr>\n",
              "    <tr>\n",
              "      <th>2</th>\n",
              "      <td>8</td>\n",
              "      <td>183</td>\n",
              "      <td>64</td>\n",
              "      <td>0</td>\n",
              "      <td>0</td>\n",
              "      <td>23.3</td>\n",
              "      <td>0.672</td>\n",
              "    </tr>\n",
              "    <tr>\n",
              "      <th>3</th>\n",
              "      <td>1</td>\n",
              "      <td>89</td>\n",
              "      <td>66</td>\n",
              "      <td>23</td>\n",
              "      <td>94</td>\n",
              "      <td>28.1</td>\n",
              "      <td>0.167</td>\n",
              "    </tr>\n",
              "    <tr>\n",
              "      <th>4</th>\n",
              "      <td>0</td>\n",
              "      <td>137</td>\n",
              "      <td>40</td>\n",
              "      <td>35</td>\n",
              "      <td>168</td>\n",
              "      <td>43.1</td>\n",
              "      <td>2.288</td>\n",
              "    </tr>\n",
              "  </tbody>\n",
              "</table>\n",
              "</div>\n",
              "      <button class=\"colab-df-convert\" onclick=\"convertToInteractive('df-cfae42a3-15a2-44e0-940d-940b706f5f0e')\"\n",
              "              title=\"Convert this dataframe to an interactive table.\"\n",
              "              style=\"display:none;\">\n",
              "        \n",
              "  <svg xmlns=\"http://www.w3.org/2000/svg\" height=\"24px\"viewBox=\"0 0 24 24\"\n",
              "       width=\"24px\">\n",
              "    <path d=\"M0 0h24v24H0V0z\" fill=\"none\"/>\n",
              "    <path d=\"M18.56 5.44l.94 2.06.94-2.06 2.06-.94-2.06-.94-.94-2.06-.94 2.06-2.06.94zm-11 1L8.5 8.5l.94-2.06 2.06-.94-2.06-.94L8.5 2.5l-.94 2.06-2.06.94zm10 10l.94 2.06.94-2.06 2.06-.94-2.06-.94-.94-2.06-.94 2.06-2.06.94z\"/><path d=\"M17.41 7.96l-1.37-1.37c-.4-.4-.92-.59-1.43-.59-.52 0-1.04.2-1.43.59L10.3 9.45l-7.72 7.72c-.78.78-.78 2.05 0 2.83L4 21.41c.39.39.9.59 1.41.59.51 0 1.02-.2 1.41-.59l7.78-7.78 2.81-2.81c.8-.78.8-2.07 0-2.86zM5.41 20L4 18.59l7.72-7.72 1.47 1.35L5.41 20z\"/>\n",
              "  </svg>\n",
              "      </button>\n",
              "      \n",
              "  <style>\n",
              "    .colab-df-container {\n",
              "      display:flex;\n",
              "      flex-wrap:wrap;\n",
              "      gap: 12px;\n",
              "    }\n",
              "\n",
              "    .colab-df-convert {\n",
              "      background-color: #E8F0FE;\n",
              "      border: none;\n",
              "      border-radius: 50%;\n",
              "      cursor: pointer;\n",
              "      display: none;\n",
              "      fill: #1967D2;\n",
              "      height: 32px;\n",
              "      padding: 0 0 0 0;\n",
              "      width: 32px;\n",
              "    }\n",
              "\n",
              "    .colab-df-convert:hover {\n",
              "      background-color: #E2EBFA;\n",
              "      box-shadow: 0px 1px 2px rgba(60, 64, 67, 0.3), 0px 1px 3px 1px rgba(60, 64, 67, 0.15);\n",
              "      fill: #174EA6;\n",
              "    }\n",
              "\n",
              "    [theme=dark] .colab-df-convert {\n",
              "      background-color: #3B4455;\n",
              "      fill: #D2E3FC;\n",
              "    }\n",
              "\n",
              "    [theme=dark] .colab-df-convert:hover {\n",
              "      background-color: #434B5C;\n",
              "      box-shadow: 0px 1px 3px 1px rgba(0, 0, 0, 0.15);\n",
              "      filter: drop-shadow(0px 1px 2px rgba(0, 0, 0, 0.3));\n",
              "      fill: #FFFFFF;\n",
              "    }\n",
              "  </style>\n",
              "\n",
              "      <script>\n",
              "        const buttonEl =\n",
              "          document.querySelector('#df-cfae42a3-15a2-44e0-940d-940b706f5f0e button.colab-df-convert');\n",
              "        buttonEl.style.display =\n",
              "          google.colab.kernel.accessAllowed ? 'block' : 'none';\n",
              "\n",
              "        async function convertToInteractive(key) {\n",
              "          const element = document.querySelector('#df-cfae42a3-15a2-44e0-940d-940b706f5f0e');\n",
              "          const dataTable =\n",
              "            await google.colab.kernel.invokeFunction('convertToInteractive',\n",
              "                                                     [key], {});\n",
              "          if (!dataTable) return;\n",
              "\n",
              "          const docLinkHtml = 'Like what you see? Visit the ' +\n",
              "            '<a target=\"_blank\" href=https://colab.research.google.com/notebooks/data_table.ipynb>data table notebook</a>'\n",
              "            + ' to learn more about interactive tables.';\n",
              "          element.innerHTML = '';\n",
              "          dataTable['output_type'] = 'display_data';\n",
              "          await google.colab.output.renderOutput(dataTable, element);\n",
              "          const docLink = document.createElement('div');\n",
              "          docLink.innerHTML = docLinkHtml;\n",
              "          element.appendChild(docLink);\n",
              "        }\n",
              "      </script>\n",
              "    </div>\n",
              "  </div>\n",
              "  "
            ]
          },
          "metadata": {},
          "execution_count": 146
        }
      ]
    },
    {
      "cell_type": "code",
      "source": [
        "column_names = num_features_df.columns"
      ],
      "metadata": {
        "id": "pBK4Ve2KbRpF"
      },
      "execution_count": null,
      "outputs": []
    },
    {
      "cell_type": "markdown",
      "source": [
        "Using RDD to analyse Big Data faster"
      ],
      "metadata": {
        "id": "RxzbSltU29m-"
      }
    },
    {
      "cell_type": "code",
      "source": [
        "n = spark.sparkContext.parallelize(num_features)"
      ],
      "metadata": {
        "id": "Q93mTj9Y3IBD"
      },
      "execution_count": null,
      "outputs": []
    },
    {
      "cell_type": "code",
      "source": [
        "features = num_features_df.rdd.map(lambda x: x[:])\n",
        "\n",
        "for i in features.collect():\n",
        "  print(i)"
      ],
      "metadata": {
        "id": "U--l2NhPbV50"
      },
      "execution_count": null,
      "outputs": []
    },
    {
      "cell_type": "code",
      "source": [
        "from pyspark.mllib.stat import Statistics\n",
        "\n",
        "corr_mat = Statistics.corr(features, method = 'pearson')\n",
        "corr_df = pd.DataFrame(corr_mat)\n",
        "corr_df.index = column_names\n",
        "corr_df.columns = column_names\n",
        "corr_df"
      ],
      "metadata": {
        "colab": {
          "base_uri": "https://localhost:8080/",
          "height": 269
        },
        "id": "2bt8zq5Ud2I4",
        "outputId": "ea8625e3-811c-4c4f-bb76-c9cba2999241"
      },
      "execution_count": null,
      "outputs": [
        {
          "output_type": "execute_result",
          "data": {
            "text/plain": [
              "                          Pregnancies   Glucose  BloodPressure  SkinThickness  \\\n",
              "Pregnancies                  1.000000  0.129459       0.141282      -0.081672   \n",
              "Glucose                      0.129459  1.000000       0.152590       0.057328   \n",
              "BloodPressure                0.141282  0.152590       1.000000       0.207371   \n",
              "SkinThickness               -0.081672  0.057328       0.207371       1.000000   \n",
              "Insulin                     -0.073535  0.331357       0.088933       0.436783   \n",
              "BMI                          0.017683  0.221071       0.281805       0.392573   \n",
              "DiabetesPedigreeFunction    -0.033523  0.137337       0.041265       0.183928   \n",
              "\n",
              "                           Insulin       BMI  DiabetesPedigreeFunction  \n",
              "Pregnancies              -0.073535  0.017683                 -0.033523  \n",
              "Glucose                   0.331357  0.221071                  0.137337  \n",
              "BloodPressure             0.088933  0.281805                  0.041265  \n",
              "SkinThickness             0.436783  0.392573                  0.183928  \n",
              "Insulin                   1.000000  0.197859                  0.185071  \n",
              "BMI                       0.197859  1.000000                  0.140647  \n",
              "DiabetesPedigreeFunction  0.185071  0.140647                  1.000000  "
            ],
            "text/html": [
              "\n",
              "  <div id=\"df-e8553195-acbf-43d2-a2c6-e51642147f21\">\n",
              "    <div class=\"colab-df-container\">\n",
              "      <div>\n",
              "<style scoped>\n",
              "    .dataframe tbody tr th:only-of-type {\n",
              "        vertical-align: middle;\n",
              "    }\n",
              "\n",
              "    .dataframe tbody tr th {\n",
              "        vertical-align: top;\n",
              "    }\n",
              "\n",
              "    .dataframe thead th {\n",
              "        text-align: right;\n",
              "    }\n",
              "</style>\n",
              "<table border=\"1\" class=\"dataframe\">\n",
              "  <thead>\n",
              "    <tr style=\"text-align: right;\">\n",
              "      <th></th>\n",
              "      <th>Pregnancies</th>\n",
              "      <th>Glucose</th>\n",
              "      <th>BloodPressure</th>\n",
              "      <th>SkinThickness</th>\n",
              "      <th>Insulin</th>\n",
              "      <th>BMI</th>\n",
              "      <th>DiabetesPedigreeFunction</th>\n",
              "    </tr>\n",
              "  </thead>\n",
              "  <tbody>\n",
              "    <tr>\n",
              "      <th>Pregnancies</th>\n",
              "      <td>1.000000</td>\n",
              "      <td>0.129459</td>\n",
              "      <td>0.141282</td>\n",
              "      <td>-0.081672</td>\n",
              "      <td>-0.073535</td>\n",
              "      <td>0.017683</td>\n",
              "      <td>-0.033523</td>\n",
              "    </tr>\n",
              "    <tr>\n",
              "      <th>Glucose</th>\n",
              "      <td>0.129459</td>\n",
              "      <td>1.000000</td>\n",
              "      <td>0.152590</td>\n",
              "      <td>0.057328</td>\n",
              "      <td>0.331357</td>\n",
              "      <td>0.221071</td>\n",
              "      <td>0.137337</td>\n",
              "    </tr>\n",
              "    <tr>\n",
              "      <th>BloodPressure</th>\n",
              "      <td>0.141282</td>\n",
              "      <td>0.152590</td>\n",
              "      <td>1.000000</td>\n",
              "      <td>0.207371</td>\n",
              "      <td>0.088933</td>\n",
              "      <td>0.281805</td>\n",
              "      <td>0.041265</td>\n",
              "    </tr>\n",
              "    <tr>\n",
              "      <th>SkinThickness</th>\n",
              "      <td>-0.081672</td>\n",
              "      <td>0.057328</td>\n",
              "      <td>0.207371</td>\n",
              "      <td>1.000000</td>\n",
              "      <td>0.436783</td>\n",
              "      <td>0.392573</td>\n",
              "      <td>0.183928</td>\n",
              "    </tr>\n",
              "    <tr>\n",
              "      <th>Insulin</th>\n",
              "      <td>-0.073535</td>\n",
              "      <td>0.331357</td>\n",
              "      <td>0.088933</td>\n",
              "      <td>0.436783</td>\n",
              "      <td>1.000000</td>\n",
              "      <td>0.197859</td>\n",
              "      <td>0.185071</td>\n",
              "    </tr>\n",
              "    <tr>\n",
              "      <th>BMI</th>\n",
              "      <td>0.017683</td>\n",
              "      <td>0.221071</td>\n",
              "      <td>0.281805</td>\n",
              "      <td>0.392573</td>\n",
              "      <td>0.197859</td>\n",
              "      <td>1.000000</td>\n",
              "      <td>0.140647</td>\n",
              "    </tr>\n",
              "    <tr>\n",
              "      <th>DiabetesPedigreeFunction</th>\n",
              "      <td>-0.033523</td>\n",
              "      <td>0.137337</td>\n",
              "      <td>0.041265</td>\n",
              "      <td>0.183928</td>\n",
              "      <td>0.185071</td>\n",
              "      <td>0.140647</td>\n",
              "      <td>1.000000</td>\n",
              "    </tr>\n",
              "  </tbody>\n",
              "</table>\n",
              "</div>\n",
              "      <button class=\"colab-df-convert\" onclick=\"convertToInteractive('df-e8553195-acbf-43d2-a2c6-e51642147f21')\"\n",
              "              title=\"Convert this dataframe to an interactive table.\"\n",
              "              style=\"display:none;\">\n",
              "        \n",
              "  <svg xmlns=\"http://www.w3.org/2000/svg\" height=\"24px\"viewBox=\"0 0 24 24\"\n",
              "       width=\"24px\">\n",
              "    <path d=\"M0 0h24v24H0V0z\" fill=\"none\"/>\n",
              "    <path d=\"M18.56 5.44l.94 2.06.94-2.06 2.06-.94-2.06-.94-.94-2.06-.94 2.06-2.06.94zm-11 1L8.5 8.5l.94-2.06 2.06-.94-2.06-.94L8.5 2.5l-.94 2.06-2.06.94zm10 10l.94 2.06.94-2.06 2.06-.94-2.06-.94-.94-2.06-.94 2.06-2.06.94z\"/><path d=\"M17.41 7.96l-1.37-1.37c-.4-.4-.92-.59-1.43-.59-.52 0-1.04.2-1.43.59L10.3 9.45l-7.72 7.72c-.78.78-.78 2.05 0 2.83L4 21.41c.39.39.9.59 1.41.59.51 0 1.02-.2 1.41-.59l7.78-7.78 2.81-2.81c.8-.78.8-2.07 0-2.86zM5.41 20L4 18.59l7.72-7.72 1.47 1.35L5.41 20z\"/>\n",
              "  </svg>\n",
              "      </button>\n",
              "      \n",
              "  <style>\n",
              "    .colab-df-container {\n",
              "      display:flex;\n",
              "      flex-wrap:wrap;\n",
              "      gap: 12px;\n",
              "    }\n",
              "\n",
              "    .colab-df-convert {\n",
              "      background-color: #E8F0FE;\n",
              "      border: none;\n",
              "      border-radius: 50%;\n",
              "      cursor: pointer;\n",
              "      display: none;\n",
              "      fill: #1967D2;\n",
              "      height: 32px;\n",
              "      padding: 0 0 0 0;\n",
              "      width: 32px;\n",
              "    }\n",
              "\n",
              "    .colab-df-convert:hover {\n",
              "      background-color: #E2EBFA;\n",
              "      box-shadow: 0px 1px 2px rgba(60, 64, 67, 0.3), 0px 1px 3px 1px rgba(60, 64, 67, 0.15);\n",
              "      fill: #174EA6;\n",
              "    }\n",
              "\n",
              "    [theme=dark] .colab-df-convert {\n",
              "      background-color: #3B4455;\n",
              "      fill: #D2E3FC;\n",
              "    }\n",
              "\n",
              "    [theme=dark] .colab-df-convert:hover {\n",
              "      background-color: #434B5C;\n",
              "      box-shadow: 0px 1px 3px 1px rgba(0, 0, 0, 0.15);\n",
              "      filter: drop-shadow(0px 1px 2px rgba(0, 0, 0, 0.3));\n",
              "      fill: #FFFFFF;\n",
              "    }\n",
              "  </style>\n",
              "\n",
              "      <script>\n",
              "        const buttonEl =\n",
              "          document.querySelector('#df-e8553195-acbf-43d2-a2c6-e51642147f21 button.colab-df-convert');\n",
              "        buttonEl.style.display =\n",
              "          google.colab.kernel.accessAllowed ? 'block' : 'none';\n",
              "\n",
              "        async function convertToInteractive(key) {\n",
              "          const element = document.querySelector('#df-e8553195-acbf-43d2-a2c6-e51642147f21');\n",
              "          const dataTable =\n",
              "            await google.colab.kernel.invokeFunction('convertToInteractive',\n",
              "                                                     [key], {});\n",
              "          if (!dataTable) return;\n",
              "\n",
              "          const docLinkHtml = 'Like what you see? Visit the ' +\n",
              "            '<a target=\"_blank\" href=https://colab.research.google.com/notebooks/data_table.ipynb>data table notebook</a>'\n",
              "            + ' to learn more about interactive tables.';\n",
              "          element.innerHTML = '';\n",
              "          dataTable['output_type'] = 'display_data';\n",
              "          await google.colab.output.renderOutput(dataTable, element);\n",
              "          const docLink = document.createElement('div');\n",
              "          docLink.innerHTML = docLinkHtml;\n",
              "          element.appendChild(docLink);\n",
              "        }\n",
              "      </script>\n",
              "    </div>\n",
              "  </div>\n",
              "  "
            ]
          },
          "metadata": {},
          "execution_count": 150
        }
      ]
    }
  ]
}